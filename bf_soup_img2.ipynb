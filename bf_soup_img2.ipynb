{
 "metadata": {
  "language_info": {
   "codemirror_mode": {
    "name": "ipython",
    "version": 3
   },
   "file_extension": ".py",
   "mimetype": "text/x-python",
   "name": "python",
   "nbconvert_exporter": "python",
   "pygments_lexer": "ipython3",
   "version": "3.8.8"
  },
  "orig_nbformat": 2,
  "kernelspec": {
   "name": "python3",
   "display_name": "Python 3.8.8 64-bit",
   "metadata": {
    "interpreter": {
     "hash": "dd52e5d0b1381a7d73a10c0944d5bdc1d30c919ae78785ca689d359e8f2e8283"
    }
   }
  }
 },
 "nbformat": 4,
 "nbformat_minor": 2,
 "cells": [
  {
   "cell_type": "code",
   "execution_count": 1,
   "metadata": {},
   "outputs": [
    {
     "output_type": "stream",
     "name": "stdout",
     "text": [
      "Collecting icrawler\n",
      "  Downloading icrawler-0.6.4.tar.gz (26 kB)\n",
      "Requirement already satisfied: beautifulsoup4>=4.4.1 in /Users/hiranokentaro/opt/anaconda3/lib/python3.8/site-packages (from icrawler) (4.9.3)\n",
      "Requirement already satisfied: lxml in /Users/hiranokentaro/opt/anaconda3/lib/python3.8/site-packages (from icrawler) (4.6.3)\n",
      "Requirement already satisfied: requests>=2.9.1 in /Users/hiranokentaro/opt/anaconda3/lib/python3.8/site-packages (from icrawler) (2.25.1)\n",
      "Requirement already satisfied: six>=1.10.0 in /Users/hiranokentaro/opt/anaconda3/lib/python3.8/site-packages (from icrawler) (1.15.0)\n",
      "Requirement already satisfied: Pillow in /Users/hiranokentaro/opt/anaconda3/lib/python3.8/site-packages (from icrawler) (8.2.0)\n",
      "Requirement already satisfied: soupsieve>1.2 in /Users/hiranokentaro/opt/anaconda3/lib/python3.8/site-packages (from beautifulsoup4>=4.4.1->icrawler) (2.2.1)\n",
      "Requirement already satisfied: certifi>=2017.4.17 in /Users/hiranokentaro/opt/anaconda3/lib/python3.8/site-packages (from requests>=2.9.1->icrawler) (2020.12.5)\n",
      "Requirement already satisfied: chardet<5,>=3.0.2 in /Users/hiranokentaro/opt/anaconda3/lib/python3.8/site-packages (from requests>=2.9.1->icrawler) (4.0.0)\n",
      "Requirement already satisfied: urllib3<1.27,>=1.21.1 in /Users/hiranokentaro/opt/anaconda3/lib/python3.8/site-packages (from requests>=2.9.1->icrawler) (1.26.4)\n",
      "Requirement already satisfied: idna<3,>=2.5 in /Users/hiranokentaro/opt/anaconda3/lib/python3.8/site-packages (from requests>=2.9.1->icrawler) (2.10)\n",
      "Building wheels for collected packages: icrawler\n",
      "  Building wheel for icrawler (setup.py) ... \u001b[?25ldone\n",
      "\u001b[?25h  Created wheel for icrawler: filename=icrawler-0.6.4-py2.py3-none-any.whl size=35063 sha256=cb8dd3f6a706c175039b1ae64e2f161e04199e3531a5489f34dba355b79919bb\n",
      "  Stored in directory: /Users/hiranokentaro/Library/Caches/pip/wheels/5b/a5/50/db28e1726fdc127cb6c5a757a4350af44a32b4e5d2c5d45dac\n",
      "Successfully built icrawler\n",
      "Installing collected packages: icrawler\n",
      "Successfully installed icrawler-0.6.4\n"
     ]
    }
   ],
   "source": [
    "!pip install icrawler"
   ]
  },
  {
   "cell_type": "code",
   "execution_count": 2,
   "metadata": {},
   "outputs": [],
   "source": [
    "from icrawler.builtin import BingImageCrawler"
   ]
  },
  {
   "cell_type": "code",
   "execution_count": 3,
   "metadata": {},
   "outputs": [
    {
     "output_type": "stream",
     "name": "stderr",
     "text": [
      "2021-06-03 09:05:42,228 - INFO - icrawler.crawler - start crawling...\n",
      "2021-06-03 09:05:42,230 - INFO - icrawler.crawler - starting 1 feeder threads...\n",
      "2021-06-03 09:05:42,232 - INFO - feeder - thread feeder-001 exit\n",
      "2021-06-03 09:05:42,234 - INFO - icrawler.crawler - starting 1 parser threads...\n",
      "2021-06-03 09:05:42,237 - INFO - icrawler.crawler - starting 4 downloader threads...\n",
      "2021-06-03 09:05:42,645 - INFO - parser - parsing result page https://www.bing.com/images/async?q=cat&first=0\n",
      "2021-06-03 09:05:43,135 - ERROR - downloader - Response status code 404, file https://vignette.wikia.nocookie.net/happypasta/images/1/1e/Frown_cat_Happypasta.jpg\n",
      "2021-06-03 09:05:43,554 - INFO - downloader - image #1\thttps://images2.minutemediacdn.com/image/upload/c_fill,g_auto,h_1248,w_2220/f_auto,q_auto,w_1100/v1555345877/shape/mentalfloss/istock_000072600763_small.jpg\n",
      "2021-06-03 09:05:43,560 - INFO - downloader - image #2\thttps://upload.wikimedia.org/wikipedia/commons/d/dc/Grumpy_Cat_(14556024763)_(cropped).jpg\n",
      "2021-06-03 09:05:43,877 - INFO - downloader - image #3\thttp://cat.sc/pic/wp-content/uploads/2015/02/cat-sc-neko_01429.jpg\n",
      "2021-06-03 09:05:44,117 - INFO - downloader - image #4\thttps://i.ytimg.com/vi/hrNEkKzTL9s/maxresdefault.jpg\n",
      "2021-06-03 09:05:44,241 - INFO - downloader - image #5\thttps://www.wallpapergeeks.com/wp-content/uploads/2014/06/Cat-Mustache-Wallpaper.jpg\n",
      "2021-06-03 09:05:44,459 - INFO - downloader - image #6\thttps://www.pets4homes.co.uk/images/classifieds/2019/09/22/2448153/large/adventurous-and-stunning-female-siberian-cat-5d878e136e8a7.jpg\n",
      "2021-06-03 09:05:44,906 - INFO - downloader - image #7\thttps://ak6.picdn.net/shutterstock/videos/1030404716/thumb/1.jpg\n",
      "2021-06-03 09:05:45,718 - INFO - downloader - image #8\thttps://ukmadcat.com/wp-content/uploads/2019/04/sleepy-cat.jpg\n",
      "2021-06-03 09:05:45,942 - INFO - downloader - image #9\thttps://content5.promiflash.de/article-images/video_1080/grumpy-cat-netz-star.jpg\n",
      "2021-06-03 09:05:46,410 - INFO - downloader - image #10\thttps://ak7.picdn.net/shutterstock/videos/1019936587/thumb/4.jpg\n",
      "2021-06-03 09:05:48,011 - INFO - downloader - image #11\thttps://files.lafm.com.co/assets/public/2019-05/grumpy_cat_0.jpg\n",
      "2021-06-03 09:05:48,440 - INFO - downloader - image #12\thttps://www.vets4pets.com/siteassets/species/cat/cat-on-fence.jpg\n",
      "2021-06-03 09:05:48,782 - INFO - downloader - image #13\thttps://images.wallpaperscraft.com/image/siamese_cat_cat_glance_131541_3840x2160.jpg\n",
      "2021-06-03 09:05:49,355 - INFO - downloader - image #14\thttps://www.pets4homes.co.uk/images/classifieds/2018/01/21/1822834/large/male-neutered-cat-5a64d23047e58.jpg\n",
      "2021-06-03 09:05:49,906 - INFO - downloader - image #15\thttps://i.ytimg.com/vi/jsGGVFKJRUk/maxresdefault.jpg\n",
      "2021-06-03 09:05:49,973 - INFO - downloader - image #16\thttps://pixnio.com/free-images/2017/09/26/2017-09-26-07-23-25.jpg\n",
      "2021-06-03 09:05:49,988 - INFO - downloader - image #17\thttps://static.independent.co.uk/s3fs-public/thumbnails/image/2017/12/04/12/zelda.jpg\n",
      "2021-06-03 09:05:50,029 - ERROR - downloader - Exception caught when downloading file https://blogs.columbian.com/cat-tales/wp-content/uploads/sites/43/2017/09/Sawyer_DS_1402.jpg, error: HTTPSConnectionPool(host='blogs.columbian.com', port=443): Max retries exceeded with url: /cat-tales/wp-content/uploads/sites/43/2017/09/Sawyer_DS_1402.jpg (Caused by ConnectTimeoutError(<urllib3.connection.HTTPSConnection object at 0x7fd38161f310>, 'Connection to blogs.columbian.com timed out. (connect timeout=5)')), remaining retry times: 2\n",
      "2021-06-03 09:05:50,052 - INFO - downloader - image #18\thttps://i.ytimg.com/vi/PpBhnMxinPU/maxresdefault.jpg\n",
      "2021-06-03 09:05:50,291 - INFO - downloader - image #19\thttps://i.ytimg.com/vi/67cy-2UzynA/maxresdefault.jpg\n",
      "2021-06-03 09:05:50,459 - INFO - downloader - image #20\thttps://www.pets4homes.co.uk/images/classifieds/2019/01/27/2194992/large/female-tabby-cat-in-need-of-a-new-home-5c4dc9425af4c.jpg\n",
      "2021-06-03 09:05:51,642 - INFO - downloader - image #21\thttps://www.newshub.co.nz/home/world/2018/01/grumpy-cat-wins-962-000-in-copyright-infringement-suit/_jcr_content/par/image.dynimg.1280.q75.jpg\n",
      "2021-06-03 09:05:52,411 - INFO - downloader - image #22\thttps://viralcats.net/blog/wp-content/uploads/2020/02/Relaxed-by-Ionut-Donici.jpg\n",
      "2021-06-03 09:05:52,934 - INFO - parser - parsing result page https://www.bing.com/images/async?q=cat&first=20\n",
      "2021-06-03 09:05:53,319 - INFO - downloader - image #23\thttps://tallinnzoo.ee/wp-content/uploads/2014/12/Luitekass_Maaja-Kitsing.jpg\n",
      "2021-06-03 09:05:53,896 - INFO - downloader - image #24\thttps://ak8.picdn.net/shutterstock/videos/1030553258/thumb/8.jpg\n",
      "2021-06-03 09:05:54,264 - INFO - downloader - image #25\thttps://wallup.net/wp-content/uploads/2018/10/07/3804-lovely-cat-playing.jpg\n",
      "2021-06-03 09:05:54,436 - INFO - downloader - image #26\thttps://www.petinsurancereview.co.uk/sites/default/files/2018-12/Birman cat_0.jpg\n",
      "2021-06-03 09:05:55,039 - ERROR - downloader - Exception caught when downloading file https://blogs.columbian.com/cat-tales/wp-content/uploads/sites/43/2017/09/Sawyer_DS_1402.jpg, error: HTTPSConnectionPool(host='blogs.columbian.com', port=443): Max retries exceeded with url: /cat-tales/wp-content/uploads/sites/43/2017/09/Sawyer_DS_1402.jpg (Caused by ConnectTimeoutError(<urllib3.connection.HTTPSConnection object at 0x7fd38162eb80>, 'Connection to blogs.columbian.com timed out. (connect timeout=5)')), remaining retry times: 1\n",
      "2021-06-03 09:05:55,430 - INFO - downloader - image #27\thttps://ak3.picdn.net/shutterstock/videos/13548593/thumb/1.jpg\n",
      "2021-06-03 09:05:55,684 - INFO - downloader - image #28\thttps://www.hdnicewallpapers.com/Walls/Big/Cat/Lovely_Cat_Sleepng_Pic_Download.jpg\n",
      "2021-06-03 09:05:57,478 - INFO - downloader - image #29\thttp://www.iizcat.com/uploads/2016/03/jpvcp-gr3.jpg\n",
      "2021-06-03 09:05:57,717 - INFO - downloader - image #30\thttps://heartforanimals.org/wp-content/uploads/2018/08/cat-ballou-768x1024.jpg\n",
      "2021-06-03 09:05:57,968 - ERROR - downloader - Response status code 403, file https://external-preview.redd.it/h00AuerLwYj1U6z8SXlkuNi8TxO236Sg76EYmLBwEi0.jpg\n",
      "2021-06-03 09:05:59,133 - ERROR - downloader - Response status code 503, file http://news.nationalgeographic.com/content/dam/news/2017/06/09/waq-cat-tail/01-cat-tail.ngsversion.1496936927104.adapt.1900.1.jpg\n",
      "2021-06-03 09:05:59,353 - INFO - downloader - image #31\thttps://www.vets4pets.com/siteassets/species/cat/kitten/kitten-in-field-summer.jpg\n",
      "2021-06-03 09:05:59,718 - INFO - downloader - image #32\thttp://jigsawpuzzles.online/king-include/uploads/cat-portrait-domestic-cute-pet-feline-kitty-1553329993.jpg\n",
      "2021-06-03 09:05:59,760 - INFO - downloader - image #33\thttps://www.cheatsheet.com/wp-content/uploads/2019/05/grumpy-cat-1024x682.jpg\n",
      "2021-06-03 09:05:59,976 - INFO - downloader - image #34\thttps://i.ytimg.com/vi/xb5v7yG3358/maxresdefault.jpg\n",
      "2021-06-03 09:06:00,053 - ERROR - downloader - Exception caught when downloading file https://blogs.columbian.com/cat-tales/wp-content/uploads/sites/43/2017/09/Sawyer_DS_1402.jpg, error: HTTPSConnectionPool(host='blogs.columbian.com', port=443): Max retries exceeded with url: /cat-tales/wp-content/uploads/sites/43/2017/09/Sawyer_DS_1402.jpg (Caused by ConnectTimeoutError(<urllib3.connection.HTTPSConnection object at 0x7fd3814b0220>, 'Connection to blogs.columbian.com timed out. (connect timeout=5)')), remaining retry times: 0\n",
      "2021-06-03 09:06:00,054 - INFO - downloader - image #35\thttps://i.ytimg.com/vi/FB8VnPDnDWM/maxresdefault.jpg\n",
      "2021-06-03 09:06:00,328 - INFO - parser - parsing result page https://www.bing.com/images/async?q=cat&first=40\n",
      "2021-06-03 09:06:00,342 - INFO - downloader - image #36\thttps://pbs.twimg.com/media/Deu0abdV4AAbRd2.jpg\n",
      "2021-06-03 09:06:00,553 - INFO - downloader - image #37\thttps://hddesktopwallpapers.in/wp-content/uploads/2015/09/hd-wallpaper-cat.jpg\n",
      "2021-06-03 09:06:01,113 - INFO - downloader - image #38\thttps://www.catbreedsjunction.com/images/ruddy-abyssinian-cat-picture3.jpg\n",
      "2021-06-03 09:06:01,585 - INFO - downloader - image #39\thttps://www.top13.net/wp-content/uploads/2020/07/cat-iguana-friends-3.jpg\n",
      "2021-06-03 09:06:01,716 - INFO - downloader - image #40\thttp://www.thepawsitter.com/wp-content/uploads/2014/03/trucker.jpg\n",
      "2021-06-03 09:06:02,093 - INFO - downloader - image #41\thttps://www.top13.net/wp-content/uploads/2020/01/cat-funny-dramatic-reactions-5.jpg\n",
      "2021-06-03 09:06:02,239 - INFO - downloader - image #42\thttps://social.tvpoolonline.com/wp-content/uploads/2018/10/Fat-Cat-Facts-pets-pet-cat-Cats.jpg\n",
      "2021-06-03 09:06:02,338 - INFO - downloader - image #43\thttps://pbs.twimg.com/media/Dys_ovoXcAERzFA.jpg\n",
      "2021-06-03 09:06:02,587 - INFO - downloader - image #44\thttps://www.advantagepetcare.com.au/sites/g/files/adhwdz311/files/styles/paragraph_image/public/2019-06/34_cat_adult_bringing_adult_cat_home-edited.jpg\n",
      "2021-06-03 09:06:03,580 - INFO - downloader - image #45\thttps://www.munchkincatguide.com/wp-content/uploads/2019/01/munchkinduo.jpg\n",
      "2021-06-03 09:06:03,781 - INFO - downloader - image #46\thttps://live.staticflickr.com/2116/1802818927_4fb065bb42_b.jpg\n",
      "2021-06-03 09:06:03,867 - INFO - parser - parsing result page https://www.bing.com/images/async?q=cat&first=60\n",
      "2021-06-03 09:06:03,899 - INFO - downloader - image #47\thttps://pleated-jeans.com/wp-content/uploads/2020/03/cats-caught-off-guard-25-pics-15.jpg\n",
      "2021-06-03 09:06:04,039 - INFO - downloader - image #48\thttps://i.ytimg.com/vi/4shm71XUfHM/maxresdefault.jpg\n",
      "2021-06-03 09:06:04,084 - INFO - downloader - image #49\thttps://d.ibtimes.co.uk/en/full/1362635/lykoi-cat.jpg\n",
      "2021-06-03 09:06:04,482 - INFO - downloader - image #50\thttps://cutacut.com/wp-content/uploads/2019/05/000_Was8908349.jpg\n",
      "2021-06-03 09:06:04,500 - INFO - downloader - image #51\thttps://www.quizony.com/should-i-get-a-cat/imageForSharing.jpg\n",
      "2021-06-03 09:06:04,990 - INFO - downloader - image #52\thttps://assets.teenvogue.com/photos/59fb6190b966a9465bb987a5/16:9/w_1280,c_limit/catacne.jpg\n",
      "2021-06-03 09:06:05,897 - INFO - downloader - image #53\thttps://thedutifulcat.com/wp-content/uploads/2018/11/The-Korat-Cat-Breed-Image.jpg\n",
      "2021-06-03 09:06:06,349 - INFO - downloader - image #54\thttps://www.bhmpics.com/thumbs/cute_lazy_cat-t3.jpg\n",
      "2021-06-03 09:06:06,447 - INFO - downloader - image #55\thttps://icdn7.digitaltrends.com/image/awfatshg3rpth-tajq6g0f0y5_vujonujftupyj1n34-640x789.jpg\n",
      "2021-06-03 09:06:06,537 - INFO - downloader - image #56\thttps://s1.ibtimes.com/sites/www.ibtimes.com/files/styles/full/public/2014/11/26/grumpy-cats-worst-christmas.jpg\n",
      "2021-06-03 09:06:06,550 - INFO - downloader - image #57\thttps://i.ytimg.com/vi/ZtvLq-0PgwM/maxresdefault.jpg\n",
      "2021-06-03 09:06:06,723 - INFO - downloader - image #58\thttps://i.ytimg.com/vi/N8PxJN6PFBQ/maxresdefault.jpg\n",
      "2021-06-03 09:06:06,776 - INFO - downloader - image #59\thttp://wallup.net/wp-content/uploads/2016/01/194763-cat-monochrome-photography-animals.jpg\n",
      "2021-06-03 09:06:06,963 - INFO - parser - parsing result page https://www.bing.com/images/async?q=cat&first=80\n",
      "2021-06-03 09:06:07,642 - INFO - downloader - image #60\thttps://www.hdnicewallpapers.com/Walls/Big/Cat/Cat_Wallpaper_Download.jpg\n",
      "2021-06-03 09:06:08,305 - INFO - downloader - image #61\thttps://www.rescuepets.com.au/app/uploads/1/886d92993c90c6a6bd6308706c4a24ac951c7272a515d64392214ee7d170dab4.jpg\n",
      "2021-06-03 09:06:08,379 - ERROR - downloader - Response status code 403, file https://cincinnatizoo.org/system/assets/uploads/2011/02/pallas-cat-2-1024x681.jpg\n",
      "2021-06-03 09:06:08,436 - INFO - downloader - image #62\thttps://i.ytimg.com/vi/R4JMSbqUqCU/maxresdefault.jpg\n",
      "2021-06-03 09:06:08,551 - INFO - downloader - image #63\thttps://www.pets4homes.co.uk/images/classifieds/2020/01/12/2566823/large/male-kitten-white-with-black-markings-5e1ba6121d62b.jpg\n",
      "2021-06-03 09:06:09,054 - INFO - downloader - image #64\thttps://www.nydailynews.com/resizer/Dth2WOEB-NnjB17k_tV9BngEnGU=/1200x0/top/arc-anglerfish-arc2-prod-tronc.s3.amazonaws.com/public/N7CFIRTD7O5REOTAOB2CICT4FY.jpg\n",
      "2021-06-03 09:06:09,607 - INFO - downloader - image #65\thttp://upload.wikimedia.org/wikipedia/commons/b/b4/Himalayan_Cat.jpg\n",
      "2021-06-03 09:06:09,717 - INFO - downloader - image #66\thttps://i.ytimg.com/vi/enmFn5qIly4/maxresdefault.jpg\n",
      "2021-06-03 09:06:09,752 - INFO - downloader - image #67\thttps://www.lostmykitty.com/pet_images_lmk/59784.jpg\n",
      "2021-06-03 09:06:09,907 - INFO - downloader - image #68\thttps://www.hdnicewallpapers.com/Walls/Normal/Cat/Cat_Baby_Superb_Image.jpg\n",
      "2021-06-03 09:06:10,574 - INFO - downloader - image #69\thttp://www.kidsdiscover.com/wp-content/uploads/2015/03/Pallass-Cat.jpg\n",
      "2021-06-03 09:06:11,121 - INFO - downloader - image #70\thttp://www.osmpic.com/wp-content/uploads/2019/05/20190517_103925-838x1024.jpg\n",
      "2021-06-03 09:06:11,247 - INFO - downloader - image #71\thttps://i.ytimg.com/vi/8k3k9JT055U/maxresdefault.jpg\n",
      "2021-06-03 09:06:11,976 - INFO - downloader - image #72\thttps://www.bestcatproducts.co.uk/wp-content/uploads/2018/03/persiancat.jpg\n",
      "2021-06-03 09:06:12,230 - INFO - downloader - image #73\thttps://www.petpaw.com.au/wp-content/uploads/2012/12/Javanese-cat-breed.jpg\n",
      "2021-06-03 09:06:12,245 - INFO - downloader - image #74\thttp://www.thepawsitter.com/wp-content/uploads/2014/03/trucker-two-768x1024.jpg\n",
      "2021-06-03 09:06:12,299 - INFO - downloader - image #75\thttps://www.camh.ca/-/media/images/all-other-images/news-and-stories/lib-cat-herders-day-masthead-three-cats-jpg.jpg\n",
      "2021-06-03 09:06:12,439 - INFO - downloader - image #76\thttps://i.ytimg.com/vi/-_7g3RAgBbs/maxresdefault.jpg\n",
      "2021-06-03 09:06:12,672 - INFO - downloader - image #77\thttps://www.catster.com/wp-content/uploads/2015/06/5-next-cat-adoption-IMAGE1.jpg\n",
      "2021-06-03 09:06:13,095 - INFO - downloader - image #78\thttps://www.hdnicewallpapers.com/Walls/Big/Cat/Indian_Cat_Baby_Sleeping_Photo.jpg\n",
      "2021-06-03 09:06:13,140 - INFO - downloader - image #79\thttps://www.awesomeinventions.com/wp-content/uploads/2015/03/cat-sheep-standing.jpg\n",
      "2021-06-03 09:06:13,694 - ERROR - downloader - Exception caught when downloading file http://petsfoto.com/wp-content/uploads/2010/08/Funny-Cat3.jpg, error: HTTPSConnectionPool(host='www.staging.petsfoto.com', port=443): Max retries exceeded with url: /wp-content/uploads/Funny-Cat3.jpg (Caused by SSLError(SSLError(1, '[SSL: SSLV3_ALERT_HANDSHAKE_FAILURE] sslv3 alert handshake failure (_ssl.c:1125)'))), remaining retry times: 2\n",
      "2021-06-03 09:06:13,980 - INFO - parser - no more page urls for thread parser-001 to parse\n",
      "2021-06-03 09:06:13,982 - INFO - parser - thread parser-001 exit\n",
      "2021-06-03 09:06:14,798 - ERROR - downloader - Exception caught when downloading file http://petsfoto.com/wp-content/uploads/2010/08/Funny-Cat3.jpg, error: HTTPSConnectionPool(host='www.staging.petsfoto.com', port=443): Max retries exceeded with url: /wp-content/uploads/Funny-Cat3.jpg (Caused by SSLError(SSLError(1, '[SSL: SSLV3_ALERT_HANDSHAKE_FAILURE] sslv3 alert handshake failure (_ssl.c:1125)'))), remaining retry times: 1\n",
      "2021-06-03 09:06:15,900 - ERROR - downloader - Exception caught when downloading file http://petsfoto.com/wp-content/uploads/2010/08/Funny-Cat3.jpg, error: HTTPSConnectionPool(host='www.staging.petsfoto.com', port=443): Max retries exceeded with url: /wp-content/uploads/Funny-Cat3.jpg (Caused by SSLError(SSLError(1, '[SSL: SSLV3_ALERT_HANDSHAKE_FAILURE] sslv3 alert handshake failure (_ssl.c:1125)'))), remaining retry times: 0\n",
      "2021-06-03 09:06:16,551 - INFO - downloader - image #80\thttps://animalia-life.com/data_images/sphynx-cat/sphynx-cat6.jpg\n",
      "2021-06-03 09:06:18,104 - INFO - downloader - no more download task for thread downloader-002\n",
      "2021-06-03 09:06:18,106 - INFO - downloader - thread downloader-002 exit\n",
      "2021-06-03 09:06:18,147 - INFO - downloader - no more download task for thread downloader-001\n",
      "2021-06-03 09:06:18,148 - INFO - downloader - thread downloader-001 exit\n",
      "2021-06-03 09:06:20,909 - INFO - downloader - no more download task for thread downloader-003\n",
      "2021-06-03 09:06:20,911 - INFO - downloader - thread downloader-003 exit\n",
      "2021-06-03 09:06:21,557 - INFO - downloader - no more download task for thread downloader-004\n",
      "2021-06-03 09:06:21,559 - INFO - downloader - thread downloader-004 exit\n",
      "2021-06-03 09:06:22,405 - INFO - icrawler.crawler - Crawling task done!\n"
     ]
    }
   ],
   "source": [
    "bing_crawler = BingImageCrawler(downloader_threads=4,\n",
    "                                storage={'root_dir': 'img'})\n",
    "bing_crawler.crawl(keyword='cat', filters=None, offset=0, max_num=100)"
   ]
  },
  {
   "cell_type": "code",
   "execution_count": null,
   "metadata": {},
   "outputs": [],
   "source": []
  }
 ]
}