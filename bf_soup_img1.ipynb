{
 "metadata": {
  "language_info": {
   "codemirror_mode": {
    "name": "ipython",
    "version": 3
   },
   "file_extension": ".py",
   "mimetype": "text/x-python",
   "name": "python",
   "nbconvert_exporter": "python",
   "pygments_lexer": "ipython3",
   "version": "3.8.8"
  },
  "orig_nbformat": 2,
  "kernelspec": {
   "name": "python3",
   "display_name": "Python 3.8.8 64-bit ('base': conda)",
   "metadata": {
    "interpreter": {
     "hash": "75e8718f79d7dd323d29fb9b87f9151ac8b4a0fbf3ff674935727354113061b1"
    }
   }
  }
 },
 "nbformat": 4,
 "nbformat_minor": 2,
 "cells": [
  {
   "cell_type": "code",
   "execution_count": 1,
   "metadata": {},
   "outputs": [],
   "source": [
    "import requests\n",
    "from bs4 import BeautifulSoup"
   ]
  },
  {
   "cell_type": "code",
   "execution_count": 11,
   "metadata": {},
   "outputs": [],
   "source": [
    "url = \"https://scraping-for-beginner.herokuapp.com/image\"\n",
    "res = requests.get(url)"
   ]
  },
  {
   "cell_type": "code",
   "execution_count": 12,
   "metadata": {},
   "outputs": [
    {
     "output_type": "execute_result",
     "data": {
      "text/plain": [
       "<Response [200]>"
      ]
     },
     "metadata": {},
     "execution_count": 12
    }
   ],
   "source": [
    "res"
   ]
  },
  {
   "cell_type": "code",
   "execution_count": 13,
   "metadata": {},
   "outputs": [],
   "source": [
    "# res.text"
   ]
  },
  {
   "cell_type": "code",
   "execution_count": 14,
   "metadata": {},
   "outputs": [],
   "source": [
    "soup = BeautifulSoup(res.text, 'html.parser')"
   ]
  },
  {
   "cell_type": "code",
   "execution_count": 16,
   "metadata": {},
   "outputs": [],
   "source": [
    "# soup"
   ]
  },
  {
   "cell_type": "code",
   "execution_count": 18,
   "metadata": {},
   "outputs": [
    {
     "output_type": "execute_result",
     "data": {
      "text/plain": [
       "'/static/assets/img/img1.JPG'"
      ]
     },
     "metadata": {},
     "execution_count": 18
    }
   ],
   "source": [
    "img_tag = soup.find('img')\n",
    "img_tag['src']"
   ]
  },
  {
   "cell_type": "code",
   "execution_count": 21,
   "metadata": {},
   "outputs": [
    {
     "output_type": "execute_result",
     "data": {
      "text/plain": [
       "'https://scraping-for-beginner.herokuapp.com//static/assets/img/img1.JPG'"
      ]
     },
     "metadata": {},
     "execution_count": 21
    }
   ],
   "source": [
    "root_url = \"https://scraping-for-beginner.herokuapp.com/\"\n",
    "img_url = root_url + img_tag['src']\n",
    "img_url"
   ]
  },
  {
   "cell_type": "code",
   "execution_count": 22,
   "metadata": {},
   "outputs": [],
   "source": [
    "from PIL import Image\n",
    "import io "
   ]
  },
  {
   "cell_type": "code",
   "execution_count": 29,
   "metadata": {},
   "outputs": [],
   "source": [
    "img = Image.open(io.BytesIO(requests.get(img_url).content))\n",
    "img.save('img/sample.jpg')"
   ]
  },
  {
   "cell_type": "code",
   "execution_count": null,
   "metadata": {},
   "outputs": [],
   "source": [
    "soup = BeautifulSoup(res.text, 'html.parser')\n",
    "img_tag = soup.find('img')\n",
    "\n",
    "root_url = \"https://scraping-for-beginner.herokuapp.com/\"\n",
    "img_url = root_url + img_tag['src']\n",
    "\n",
    "img = Image.open(io.BytesIO(requests.get(img_url).content))\n",
    "img.save('img/sample.jpg')"
   ]
  },
  {
   "cell_type": "code",
   "execution_count": 34,
   "metadata": {},
   "outputs": [
    {
     "output_type": "stream",
     "name": "stdout",
     "text": [
      "0 <img class=\"materialbox responsive-img card\" src=\"/static/assets/img/img1.JPG\"/>\n",
      "1 <img class=\"materialbox responsive-img card\" src=\"/static/assets/img/img2.JPG\"/>\n",
      "2 <img class=\"materialbox responsive-img card\" src=\"/static/assets/img/img3.JPG\"/>\n",
      "3 <img class=\"materialbox responsive-img card\" src=\"/static/assets/img/img4.JPG\"/>\n",
      "4 <img class=\"materialbox responsive-img card\" src=\"/static/assets/img/img5.JPG\"/>\n",
      "5 <img class=\"materialbox responsive-img card\" src=\"/static/assets/img/img6.JPG\"/>\n",
      "6 <img class=\"materialbox responsive-img card\" src=\"/static/assets/img/img7.JPG\"/>\n",
      "7 <img class=\"materialbox responsive-img card\" src=\"/static/assets/img/img8.JPG\"/>\n",
      "8 <img class=\"materialbox responsive-img card\" src=\"/static/assets/img/img9.JPG\"/>\n",
      "9 <img class=\"materialbox responsive-img card\" src=\"/static/assets/img/img10.JPG\"/>\n",
      "10 <img class=\"materialbox responsive-img card\" src=\"/static/assets/img/img11.JPG\"/>\n",
      "11 <img class=\"materialbox responsive-img card\" src=\"/static/assets/img/img12.JPG\"/>\n",
      "12 <img class=\"materialbox responsive-img card\" src=\"/static/assets/img/img13.JPG\"/>\n",
      "13 <img class=\"materialbox responsive-img card\" src=\"/static/assets/img/img14.JPG\"/>\n",
      "14 <img class=\"materialbox responsive-img card\" src=\"/static/assets/img/img15.JPG\"/>\n",
      "15 <img class=\"materialbox responsive-img card\" src=\"/static/assets/img/img16.JPG\"/>\n",
      "16 <img class=\"materialbox responsive-img card\" src=\"/static/assets/img/img17.JPG\"/>\n",
      "17 <img class=\"materialbox responsive-img card\" src=\"/static/assets/img/img18.JPG\"/>\n",
      "18 <img class=\"materialbox responsive-img card\" src=\"/static/assets/img/img19.JPG\"/>\n",
      "19 <img class=\"materialbox responsive-img card\" src=\"/static/assets/img/img20.JPG\"/>\n",
      "20 <img class=\"materialbox responsive-img card\" src=\"/static/assets/img/img21.JPG\"/>\n",
      "21 <img class=\"materialbox responsive-img card\" src=\"/static/assets/img/img22.JPG\"/>\n",
      "22 <img class=\"materialbox responsive-img card\" src=\"/static/assets/img/img23.JPG\"/>\n",
      "23 <img class=\"materialbox responsive-img card\" src=\"/static/assets/img/img24.JPG\"/>\n"
     ]
    }
   ],
   "source": [
    "img_tags = soup.find_all('img')\n",
    "for i, img_tag in enumerate(img_tags):\n",
    "    print(i, img_tag)\n",
    "    root_url = \"https://scraping-for-beginner.herokuapp.com/\"\n",
    "    img_url = root_url + img_tag['src']\n",
    "\n",
    "    img = Image.open(io.BytesIO(requests.get(img_url).content))\n",
    "    img.save(f'img/sample{i}.jpg')\n",
    "\n",
    "    "
   ]
  },
  {
   "cell_type": "code",
   "execution_count": null,
   "metadata": {},
   "outputs": [],
   "source": []
  }
 ]
}