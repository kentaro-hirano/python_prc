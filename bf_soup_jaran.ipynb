{
 "metadata": {
  "language_info": {
   "codemirror_mode": {
    "name": "ipython",
    "version": 3
   },
   "file_extension": ".py",
   "mimetype": "text/x-python",
   "name": "python",
   "nbconvert_exporter": "python",
   "pygments_lexer": "ipython3",
   "version": "3.8.8"
  },
  "orig_nbformat": 2,
  "kernelspec": {
   "name": "python3",
   "display_name": "Python 3.8.8 64-bit",
   "metadata": {
    "interpreter": {
     "hash": "dd52e5d0b1381a7d73a10c0944d5bdc1d30c919ae78785ca689d359e8f2e8283"
    }
   }
  }
 },
 "nbformat": 4,
 "nbformat_minor": 2,
 "cells": [
  {
   "cell_type": "code",
   "execution_count": 4,
   "metadata": {},
   "outputs": [],
   "source": [
    "import requests \n",
    "from bs4 import BeautifulSoup\n",
    "\n",
    "url = \"https://www.jalan.net/ranking/ryokan/index.html\"\n",
    "res = requests.get(url)\n",
    "\n",
    "soup = BeautifulSoup(res.text, 'html.parser')\n",
    "hotels = soup.select('.mgt15')\n",
    "\n",
    "data = []\n",
    "for hotel in hotels:\n",
    "    h_name = hotel.find('a').text\n",
    "    n_trim_name = h_name.replace('　', '')\n",
    "\n",
    "    hotel_sub_title = hotel.find(class_=\"tx14_333b\").text\n",
    "\n",
    "    hotel_rank = hotel.find('img').get('alt')\n",
    "\n",
    "    hotel_detail = hotel.find(class_=\"tx_basic\").text.split('\\n')[0].replace('\\r', '')\n",
    "    \n",
    "    bf_address = hotel.text.split('[住所]')[1].split('\\xa0')[0].replace('[最寄駅]', '')\n",
    "    hotel_address = bf_address.replace(' ', '')\n",
    "\n",
    "    bf_closest_station = hotel.text.split('[住所]')[1].split('\\xa0')[1].replace('[最寄駅]', '')\n",
    "    closest_station = bf_closest_station.split('\\n')[0].replace(' ', '')\n",
    "\n",
    "    most_low_price = hotel.find(class_= \"red\").text\n",
    "\n",
    "    eval = float(hotel.find(class_= \"s14_30b\").text)\n",
    "\n",
    "    bf_detail_link = hotel.find(class_= \"mgt15\")\n",
    "    detail_link = hotel.find('a').get('href')\n",
    "\n",
    "    datum = {}\n",
    "    datum['順位'] = hotel_rank\n",
    "    datum['名称'] = n_trim_name\n",
    "    datum['小見出し'] = hotel_sub_title\n",
    "    datum['詳細'] = hotel_detail\n",
    "    datum['住所'] = hotel_address\n",
    "    datum['最寄駅'] = closest_station\n",
    "    datum['最安値'] = most_low_price\n",
    "    datum['クチコミ総合'] = eval\n",
    "    datum['詳細リンク'] = detail_link\n",
    "    data.append(datum)\n",
    "data\n",
    "\n",
    "import pandas as pd\n",
    "\n",
    "df = pd.DataFrame(data)\n",
    "df\n",
    "\n",
    "df.to_csv('じゃらん.csv')"
   ]
  },
  {
   "cell_type": "code",
   "execution_count": 1,
   "metadata": {},
   "outputs": [
    {
     "output_type": "stream",
     "name": "stdout",
     "text": [
      "Python 3.8.8\n"
     ]
    }
   ],
   "source": [
    "!python3 --version"
   ]
  },
  {
   "cell_type": "code",
   "execution_count": null,
   "metadata": {},
   "outputs": [],
   "source": []
  }
 ]
}