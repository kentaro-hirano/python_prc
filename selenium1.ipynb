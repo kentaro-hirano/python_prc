{
 "metadata": {
  "language_info": {
   "codemirror_mode": {
    "name": "ipython",
    "version": 3
   },
   "file_extension": ".py",
   "mimetype": "text/x-python",
   "name": "python",
   "nbconvert_exporter": "python",
   "pygments_lexer": "ipython3",
   "version": "3.8.8"
  },
  "orig_nbformat": 2,
  "kernelspec": {
   "name": "python3",
   "display_name": "Python 3.8.8 64-bit ('base': conda)",
   "metadata": {
    "interpreter": {
     "hash": "75e8718f79d7dd323d29fb9b87f9151ac8b4a0fbf3ff674935727354113061b1"
    }
   }
  }
 },
 "nbformat": 4,
 "nbformat_minor": 2,
 "cells": [
  {
   "cell_type": "code",
   "execution_count": 2,
   "metadata": {},
   "outputs": [
    {
     "output_type": "stream",
     "name": "stdout",
     "text": [
      "Collecting selenium\n",
      "  Downloading selenium-3.141.0-py2.py3-none-any.whl (904 kB)\n",
      "\u001b[K     |████████████████████████████████| 904 kB 3.3 MB/s \n",
      "\u001b[?25hRequirement already satisfied: urllib3 in /Users/hiranokentaro/opt/anaconda3/lib/python3.8/site-packages (from selenium) (1.26.4)\n",
      "Installing collected packages: selenium\n",
      "Successfully installed selenium-3.141.0\n"
     ]
    }
   ],
   "source": [
    "!pip install selenium 　#ライブラリ"
   ]
  },
  {
   "cell_type": "code",
   "execution_count": 4,
   "metadata": {},
   "outputs": [
    {
     "output_type": "stream",
     "name": "stdout",
     "text": [
      "Updating Homebrew...\n",
      "\u001b[34m==>\u001b[0m \u001b[1mAuto-updated Homebrew!\u001b[0m\n",
      "Updated 1 tap (homebrew/core).\n",
      "\u001b[34m==>\u001b[0m \u001b[1mNew Formulae\u001b[0m\n",
      "archey4                    kotlin-language-server     pyqt-networkauth\n",
      "as-tree                    kubergrunt                 pyside@2\n",
      "atuin                      latino                     python-tabulate\n",
      "autoconf@2.69              leaf-proxy                 python-tk@3.9\n",
      "autorestic                 lefthook                   pywhat\n",
      "bas55                      libpipeline                qodem\n",
      "brook                      libunwind                  qt-libiodbc\n",
      "cadence-workflow           linux-pam                  qt-mariadb\n",
      "cadical                    llvm@11                    qt-mysql\n",
      "caire                      lm-sensors                 qt-percona-server\n",
      "cidr2range                 lsix                       qt-postgresql\n",
      "clazy                      lttng-ust                  qt-unixodbc\n",
      "clusterctl                 lychee                     qthreads\n",
      "code-minimap               macchina                   range2cidr\n",
      "conftest                   mapcidr                    rdkit\n",
      "crackpkcs                  marcli                     revive\n",
      "crispy-doom                marp-cli                   rmw\n",
      "csvtk                      mathlibtools               rosa-cli\n",
      "ddcctl                     matterbridge               saml2aws\n",
      "delve                      minisat                    scotch\n",
      "djl-serving                moto                       search-that-hash\n",
      "dory                       mr2                        seqkit\n",
      "dua-cli                    multitime                  simde\n",
      "ehco                       mx                         six\n",
      "elan-init                  name-that-hash             smu\n",
      "enkits                     neovim-remote              snowpack\n",
      "enzyme                     net-tools                  spaceship\n",
      "epr                        nomino                     sqlancer\n",
      "erlang@23                  nox                        storj-uplink\n",
      "fabric-installer           numactl                    stp\n",
      "gcc@10                     obfs4proxy                 sysstat\n",
      "geph4                      oksh                       systemd\n",
      "ghc@9                      open-adventure             tbb@2020\n",
      "gitbackup                  openexr@2                  threemux\n",
      "gitwatch                   openj9                     timg\n",
      "glibc                      openmama                   tomcat@9\n",
      "gnupg@2.2                  openmodelica               trojan-go\n",
      "go-boring                  opensearch                 tssh\n",
      "go@1.15                    oras                       tz\n",
      "gopass-jsonapi             orgalorg                   universal-ctags\n",
      "gradle@6                   organize-tool              virtualenv\n",
      "grepip                     pandoc-plot                virtualenvwrapper\n",
      "gtksourceview5             parquet-cli                waffle\n",
      "haruhi-dl                  pcalc                      webhook\n",
      "haskell-language-server    pcp                        wllvm\n",
      "iconsur                    pgxnclient                 xfig\n",
      "imath                      php-cs-fixer@2             xplr\n",
      "influxdb@1                 phpbrew                    xray\n",
      "ipinfo-cli                 principalmapper            yubikey-agent\n",
      "julia                      proj@7                     zellij\n",
      "kertish-dfs                projectm                   zinit\n",
      "ki                         pure                       zlib-ng\n",
      "kickstart                  pyqt-3d                    zsh-vi-mode\n",
      "klee                       pyqt-builder\n",
      "\u001b[34m==>\u001b[0m \u001b[1mUpdated Formulae\u001b[0m\n",
      "Updated 3326 formulae.\n",
      "\u001b[34m==>\u001b[0m \u001b[1mRenamed Formulae\u001b[0m\n",
      "badtouch -> authoscope\n",
      "fcct -> butane\n",
      "ht-rust -> xh\n",
      "kde-extra-cmake-modules -> extra-cmake-modules\n",
      "kde-karchive -> karchive\n",
      "kde-kdoctools -> kdoctools\n",
      "kde-ki18n -> ki18n\n",
      "kde-threadweaver -> threadweaver\n",
      "libsasl2 -> cyrus-sasl\n",
      "minizip2 -> minizip-ng\n",
      "pyqt5 -> pyqt@5\n",
      "qt5 -> qt@5\n",
      "\u001b[34m==>\u001b[0m \u001b[1mDeleted Formulae\u001b[0m\n",
      "atlassian-cli       avian               geant4              protobuf-swift\n",
      "aurora-cli          erlang@20           osquery             protobuf@3.7\n",
      "\n",
      "\u001b[34m==>\u001b[0m \u001b[1mTapping homebrew/cask\u001b[0m\n",
      "Cloning into '/opt/homebrew/Library/Taps/homebrew/homebrew-cask'...\n",
      "remote: Enumerating objects: 574710, done.\u001b[K\n",
      "remote: Counting objects: 100% (138/138), done.\u001b[K\n",
      "remote: Compressing objects: 100% (75/75), done.\u001b[K\n",
      "remote: Total 574710 (delta 74), reused 120 (delta 63), pack-reused 574572\u001b[K\n",
      "Receiving objects: 100% (574710/574710), 253.90 MiB | 23.71 MiB/s, done.\n",
      "Resolving deltas: 100% (405857/405857), done.\n",
      "Tapped 3909 casks (3,988 files, 272.3MB).\n",
      "\u001b[34m==>\u001b[0m \u001b[1mDownloading https://chromedriver.storage.googleapis.com/90.0.4430.24/chromed\u001b[0m\n",
      "######################################################################## 100.0%\n",
      "\u001b[32m==>\u001b[0m \u001b[1mInstalling Cask \u001b[32mchromedriver\u001b[39m\u001b[0m\n",
      "\u001b[34m==>\u001b[0m \u001b[1mLinking Binary 'chromedriver' to '/opt/homebrew/bin/chromedriver'\u001b[0m\n",
      "🍺  chromedriver was successfully installed!\n"
     ]
    }
   ],
   "source": [
    "!brew install chromedriver　#webドライバ　homebrewからインストール"
   ]
  },
  {
   "cell_type": "code",
   "execution_count": 3,
   "metadata": {},
   "outputs": [],
   "source": [
    "from selenium import webdriver #webdriverをimport"
   ]
  },
  {
   "cell_type": "code",
   "execution_count": 4,
   "metadata": {},
   "outputs": [],
   "source": [
    "from time import sleep  #sleepをimport 処理を止めることができる(3秒待って実行など、、)"
   ]
  },
  {
   "cell_type": "code",
   "execution_count": 9,
   "metadata": {},
   "outputs": [
    {
     "output_type": "stream",
     "name": "stdout",
     "text": [
      "hello\n"
     ]
    }
   ],
   "source": [
    "sleep(3)\n",
    "print(\"hello\")"
   ]
  },
  {
   "cell_type": "code",
   "execution_count": 14,
   "metadata": {},
   "outputs": [],
   "source": [
    "browser = webdriver.Chrome() #chromeを起動"
   ]
  },
  {
   "cell_type": "code",
   "execution_count": 13,
   "metadata": {},
   "outputs": [],
   "source": [
    "browser.quit() #chromeを終了"
   ]
  },
  {
   "cell_type": "code",
   "execution_count": 18,
   "metadata": {},
   "outputs": [],
   "source": [
    "url = \"https://scraping-for-beginner.herokuapp.com/login_page\"\n",
    "browser.get(url)　#ページを取得"
   ]
  },
  {
   "cell_type": "code",
   "execution_count": 38,
   "metadata": {},
   "outputs": [],
   "source": [
    "elem_username = browser.find_element_by_id('username') #idを取得"
   ]
  },
  {
   "cell_type": "code",
   "execution_count": 40,
   "metadata": {},
   "outputs": [
    {
     "output_type": "execute_result",
     "data": {
      "text/plain": [
       "<selenium.webdriver.remote.webelement.WebElement (session=\"56d050d8a3bc49b6598d59a45399366e\", element=\"043082e1-ac4c-4440-8333-48c0184198d6\")>"
      ]
     },
     "metadata": {},
     "execution_count": 40
    }
   ],
   "source": [
    "elem_username"
   ]
  },
  {
   "cell_type": "code",
   "execution_count": 42,
   "metadata": {},
   "outputs": [],
   "source": [
    "elem_username.send_keys(\"imanishi\")　#send_keysで値を自動入力"
   ]
  },
  {
   "cell_type": "code",
   "execution_count": 44,
   "metadata": {},
   "outputs": [],
   "source": [
    "elem_password = browser.find_element_by_id('password') "
   ]
  },
  {
   "cell_type": "code",
   "execution_count": 45,
   "metadata": {},
   "outputs": [],
   "source": [
    "elem_password.send_keys(\"kohei\")"
   ]
  },
  {
   "cell_type": "code",
   "execution_count": 46,
   "metadata": {},
   "outputs": [],
   "source": [
    "elem_login_btn = browser.find_element_by_id(\"login-btn\")"
   ]
  },
  {
   "cell_type": "code",
   "execution_count": 47,
   "metadata": {},
   "outputs": [],
   "source": [
    "elem_login_btn.click()"
   ]
  },
  {
   "cell_type": "code",
   "execution_count": 64,
   "metadata": {},
   "outputs": [
    {
     "output_type": "stream",
     "name": "stdout",
     "text": [
      "https://www.awseducate.com/signin/SiteLogin?ec=302&startURL=%2Fstudent%2Fs%2F\n"
     ]
    }
   ],
   "source": [
    "!pip install selenium 　#ライブラリ\n",
    "!brew install chromedriver　#webドライバ　homebrewからインストール\n",
    "\n",
    "from selenium import webdriver #webdriverをimport\n",
    "from time import sleep  #sleepをimport 処理を止めることができる(3秒待って実行など、、)\n",
    "\n",
    "browser = webdriver.Chrome()\n",
    "url = \"https://www.awseducate.com/signin/SiteLogin?ec=302&startURL=%2Fstudent%2Fs%2F\"\n",
    "browser.get(url)\n",
    "elem_username = browser.find_element_by_id('loginPage:siteLogin:loginComponent:loginForm:username') \n",
    "elem_username.send_keys(\"hirano.kentaro.infratop@gmail.com\")\n",
    "elem_password = browser.find_element_by_id('loginPage:siteLogin:loginComponent:loginForm:password') \n",
    "elem_password.send_keys(\"yakyuken2024!\")\n",
    "sleep(1)\n",
    "elem_login_btn = browser.find_element_by_class_name('loginText')\n",
    "elem_login_btn.click()\n",
    "sleep(7)\n",
    "elem_aws_account_btn = browser.find_element_by_css_selector(\"a[href='/student/s/awssite\")\n",
    "elem_aws_account_btn.click()\n",
    "sleep(4)\n",
    "elem_start_account_btn = browser.find_element_by_class_name('btn')\n",
    "elem_start_account_btn.click()\n",
    "sleep(7)\n",
    "browser.switch_to.window(browser.window_handles[-1])\n",
    "elem_aws_console_btn = browser.find_element_by_id('awsbtn')\n",
    "elem_aws_console_btn.click()\n",
    "sleep(5)\n",
    "browser.switch_to.window(browser.window_handles[-1])\n",
    "cloud9_url = \"https://console.aws.amazon.com/cloud9/home?region=us-east-1#\"\n",
    "browser.get(cloud9_url)"
   ]
  },
  {
   "cell_type": "code",
   "execution_count": 66,
   "metadata": {},
   "outputs": [],
   "source": [
    "browser.quit()"
   ]
  },
  {
   "cell_type": "code",
   "execution_count": null,
   "metadata": {},
   "outputs": [],
   "source": []
  }
 ]
}